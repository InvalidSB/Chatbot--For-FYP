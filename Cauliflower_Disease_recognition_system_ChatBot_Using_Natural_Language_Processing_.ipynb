{
  "cells": [
    {
      "cell_type": "code",
      "execution_count": null,
      "metadata": {
        "id": "R06i-jGuTPG_",
        "colab": {
          "base_uri": "https://localhost:8080/"
        },
        "outputId": "12c35dbd-4832-4ac5-e5df-0fce3bcb0a7c"
      },
      "outputs": [
        {
          "output_type": "stream",
          "name": "stderr",
          "text": [
            "[nltk_data] Downloading package punkt to /root/nltk_data...\n",
            "[nltk_data]   Package punkt is already up-to-date!\n",
            "[nltk_data] Downloading package wordnet to /root/nltk_data...\n",
            "[nltk_data]   Package wordnet is already up-to-date!\n"
          ]
        },
        {
          "output_type": "execute_result",
          "data": {
            "text/plain": [
              "True"
            ]
          },
          "metadata": {},
          "execution_count": 10
        }
      ],
      "source": [
        "# Installation of required libraries and modules\n",
        "import json\n",
        "import string\n",
        "import random \n",
        "import nltk\n",
        "import numpy as num\n",
        "from nltk.stem import WordNetLemmatizer \n",
        "import tensorflow as tensorF\n",
        "from tensorflow.keras import Sequential \n",
        "from tensorflow.keras.layers import Dense, Dropout\n",
        "nltk.download(\"punkt\")\n",
        "nltk.download(\"wordnet\")"
      ]
    },
    {
      "cell_type": "code",
      "execution_count": null,
      "metadata": {
        "id": "CnjmqXftU3aX"
      },
      "outputs": [],
      "source": [
        "# Own data\n",
        "ourData = {\"intents\": [\n",
        "            \n",
        "            \n",
        "              {\"tag\": \"greeting\",\n",
        "              \"patterns\": [ \"Hi\", \"Hello\", \"Hey\"],\n",
        "              \"responses\": [\"Hi there\", \"Hello\", \"Hi :)\"],\n",
        "             },\n",
        "              {\"tag\": \"name\",\n",
        "              \"patterns\": [\"What it is?\",\"For what is used\"],\n",
        "              \"responses\": [\"It is Cauliflower disease recognition system\"]\n",
        "             },\n",
        "               {\"tag\": \"about\",\n",
        "              \"patterns\": [\"Who use it?\", \"What it does?\",\"What is it's aim?\"],\n",
        "              \"responses\": [\"It is most helpful for farmer\", \"Farmer use it to classify and apply the remedies to the disease that may present in cauliflower\"]\n",
        "             },\n",
        "               {\"tag\": \"reason\",\n",
        "              \"patterns\": [\"Why use it?\", ],\n",
        "              \"responses\": [\"Farmer looses considerable fraction of their production due to not knowing the type of disease and their remedies. So this approach could be helpful\"]\n",
        "             },\n",
        "              {\"tag\": \"cauliflower\",\n",
        "              \"patterns\": [\"What is cauflower?\", ],\n",
        "              \"responses\": [\"Cauliflower is one of several vegetables in the species Brassica oleracea in the genus Brassica, which is in the Brassicaceae family.\",\"Cauliflower is a cruciferous vegetable that is naturally high in fiber and B-vitamins.\"]\n",
        "             },\n",
        "               {\"tag\": \"production\",\n",
        "              \"patterns\": [\"Where cauliflower grows?\", \"What type of soil required ?\"],\n",
        "              \"responses\": [\"Cauliflower likes to grow in full sun and rich, moist, well-drained soil with a pH between 6 and 7.\", \"Cauliflower is a cool weather vegetable, growing best with average temperatures between 60 and 65 degrees F and no higher than 75 degrees F.\"]\n",
        "             },\n",
        "               {\"tag\": \"advantages\",\n",
        "              \"patterns\": [\"What are the advantages of cauliflower\",\"What we get from cauliflower\"],\n",
        "              \"responses\": [\"Cauliflower is as good a source of fiber and vitamins.Its ingredients may help strengthen bones, boost the cardiovascular system, and prevent cancer.Cauliflower is high in fiber and water. Both are important for preventing constipation, maintaining a healthy digestive tract, and lowering the risk of colon cancer.\"]\n",
        "             },\n",
        "              {\"tag\": \"diseases\",\n",
        "              \"patterns\": [ \"What are the type of diseases in cauliflower ?\", \"Type of diseases\", \"disease in cauliflower\",\"How many diseases\"],\n",
        "              \"responses\": [\"There are many but the most common are : Bacterial soft rot, Black rot, Downy mildew, Powdery mildew, White rust, Cabbage looper, Cabbage Aphid\"],\n",
        "             },\n",
        "              {\"tag\": \"cabbage looper\",\n",
        "              \"patterns\": [ \"Is cabbage looper a disease\", \"Looper a disease\"],\n",
        "              \"responses\": [\"Actully it is a pests but yeah can be considered as disease.\"],\n",
        "             },\n",
        "              {\"tag\": \"cabbage aphid\",\n",
        "              \"patterns\": [ \"Is cabbage aphid a disease\", \"Aphid a disease\"],\n",
        "              \"responses\": [\"Actully it is a pests but yeah can be considered as disease.\"],\n",
        "             },\n",
        "              {\"tag\": \"goodbye\",\n",
        "              \"patterns\": [ \"bye\", \"later\"],\n",
        "              \"responses\": [\"Bye\", \"take care\"]\n",
        "             },\n",
        "           \n",
        "            \n",
        "]}"
      ]
    },
    {
      "cell_type": "code",
      "execution_count": null,
      "metadata": {
        "colab": {
          "base_uri": "https://localhost:8080/"
        },
        "id": "QGyOdroNz7cM",
        "outputId": "4be6ae9d-0284-40bb-a8a8-c6d6816e6926"
      },
      "outputs": [
        {
          "output_type": "stream",
          "name": "stderr",
          "text": [
            "[nltk_data] Downloading package omw-1.4 to /root/nltk_data...\n",
            "[nltk_data]   Package omw-1.4 is already up-to-date!\n"
          ]
        },
        {
          "output_type": "execute_result",
          "data": {
            "text/plain": [
              "True"
            ]
          },
          "metadata": {},
          "execution_count": 12
        }
      ],
      "source": [
        "nltk.download('omw-1.4')"
      ]
    },
    {
      "cell_type": "code",
      "execution_count": null,
      "metadata": {
        "id": "wouD59W4Thno"
      },
      "outputs": [],
      "source": [
        "#for getting words\n",
        "lm = WordNetLemmatizer() \n",
        "\n",
        "# initialization of lists\n",
        "ourClasses = []\n",
        "newWords = []\n",
        "documentX = []\n",
        "documentY = []\n",
        "# Each intent is tokenized into words and the patterns and their associated tags are added to their respective lists.\n",
        "for intent in ourData[\"intents\"]:\n",
        "    for pattern in intent[\"patterns\"]:\n",
        "        ourTokens = nltk.word_tokenize(pattern)\n",
        "        newWords.extend(ourTokens)\n",
        "        documentX.append(pattern)\n",
        "        documentY.append(intent[\"tag\"])\n",
        "    \n",
        "    # adding the not existing tags to their respective classes\n",
        "    if intent[\"tag\"] not in ourClasses:\n",
        "        ourClasses.append(intent[\"tag\"])\n",
        "\n",
        "# set words to lowercase if not in punctuation to make it easier\n",
        "newWords = [lm.lemmatize(word.lower()) for word in newWords if word not in string.punctuation] \n",
        "newWords = sorted(set(newWords))# sorting the words\n",
        "ourClasses = sorted(set(ourClasses))# sorting the classes"
      ]
    },
    {
      "cell_type": "code",
      "execution_count": null,
      "metadata": {
        "colab": {
          "base_uri": "https://localhost:8080/"
        },
        "id": "4sIDY0cUVC8w",
        "outputId": "fbdcff71-7db4-4791-8d4c-e9c54fe98749"
      },
      "outputs": [
        {
          "output_type": "stream",
          "name": "stdout",
          "text": [
            "[\"'s\", 'a', 'advantage', 'aim', 'aphid', 'are', 'bye', 'cabbage', 'cauflower', 'cauliflower', 'disease', 'doe', 'for', 'from', 'get', 'grows', 'hello', 'hey', 'hi', 'how', 'in', 'is', 'it', 'later', 'looper', 'many', 'of', 'required', 'soil', 'the', 'type', 'use', 'used', 'we', 'what', 'where', 'who', 'why']\n"
          ]
        }
      ],
      "source": [
        "\n",
        "print(newWords)"
      ]
    },
    {
      "cell_type": "code",
      "execution_count": null,
      "metadata": {
        "colab": {
          "base_uri": "https://localhost:8080/"
        },
        "id": "Ypz2D9ywVjRs",
        "outputId": "7be8da20-a974-4a1d-d55c-4be7f6e33513"
      },
      "outputs": [
        {
          "output_type": "stream",
          "name": "stdout",
          "text": [
            "['about', 'advantages', 'cabbage aphid', 'cabbage looper', 'cauliflower', 'diseases', 'goodbye', 'greeting', 'name', 'production', 'reason']\n"
          ]
        }
      ],
      "source": [
        "print(ourClasses)"
      ]
    },
    {
      "cell_type": "code",
      "execution_count": null,
      "metadata": {
        "id": "SShwtVFtaBL7"
      },
      "outputs": [],
      "source": [
        "# training list array \n",
        "trainingData = [] \n",
        "outEmpty = [0] * len(ourClasses)\n",
        "# BOW model - Bag Of Words\n",
        "for idx, doc in enumerate(documentX):\n",
        "    bagOfwords = []\n",
        "    text = lm.lemmatize(doc.lower())\n",
        "    for word in newWords:\n",
        "        bagOfwords.append(1) if word in text else bagOfwords.append(0)\n",
        "    \n",
        "    outputRow = list(outEmpty)\n",
        "    outputRow[ourClasses.index(documentY[idx])] = 1\n",
        "    trainingData.append([bagOfwords, outputRow])\n",
        "\n",
        "random.shuffle(trainingData)\n",
        "# coverting our data into an array after shuffling it\n",
        "trainingData = num.array(trainingData, dtype=object)\n",
        "\n",
        "x = num.array(list(trainingData[:, 0]))# first trainig phase\n",
        "y = num.array(list(trainingData[:, 1]))# second training phase"
      ]
    },
    {
      "cell_type": "code",
      "source": [
        "x"
      ],
      "metadata": {
        "colab": {
          "base_uri": "https://localhost:8080/"
        },
        "id": "0pGS9RMR3h8E",
        "outputId": "4428b66b-f4ec-4371-896b-8929a2f6df2e"
      },
      "execution_count": null,
      "outputs": [
        {
          "output_type": "execute_result",
          "data": {
            "text/plain": [
              "array([[0, 1, 0, 0, 0, 0, 0, 0, 0, 1, 1, 0, 0, 0, 0, 0, 0, 0, 0, 0, 1, 1,\n",
              "        0, 0, 0, 0, 0, 0, 0, 0, 0, 0, 0, 1, 0, 0, 0, 0],\n",
              "       [0, 1, 0, 0, 0, 0, 0, 0, 0, 0, 0, 0, 0, 0, 0, 0, 0, 0, 0, 0, 0, 1,\n",
              "        1, 0, 0, 0, 0, 0, 0, 0, 0, 0, 0, 0, 1, 0, 0, 0],\n",
              "       [0, 1, 0, 0, 1, 0, 0, 1, 0, 0, 1, 0, 0, 0, 0, 0, 0, 0, 1, 0, 0, 1,\n",
              "        0, 0, 0, 0, 0, 0, 0, 0, 0, 0, 0, 0, 0, 0, 0, 0],\n",
              "       [0, 1, 0, 0, 0, 0, 0, 0, 0, 0, 1, 0, 0, 0, 0, 0, 0, 0, 0, 0, 0, 1,\n",
              "        0, 0, 0, 0, 1, 0, 0, 0, 1, 0, 0, 0, 0, 0, 0, 0],\n",
              "       [0, 0, 0, 0, 0, 0, 1, 0, 0, 0, 0, 0, 0, 0, 0, 0, 0, 0, 0, 0, 0, 0,\n",
              "        0, 0, 0, 0, 0, 0, 0, 0, 0, 0, 0, 0, 0, 0, 0, 0],\n",
              "       [1, 1, 0, 1, 0, 0, 0, 0, 0, 0, 0, 0, 0, 0, 0, 0, 0, 0, 0, 0, 0, 1,\n",
              "        1, 0, 0, 0, 0, 0, 0, 0, 0, 0, 0, 0, 1, 0, 0, 0],\n",
              "       [0, 0, 0, 0, 0, 0, 0, 0, 0, 0, 0, 0, 0, 0, 0, 0, 0, 0, 0, 0, 0, 0,\n",
              "        1, 0, 0, 0, 0, 0, 0, 0, 0, 1, 0, 0, 0, 0, 0, 1],\n",
              "       [0, 1, 0, 0, 0, 0, 0, 0, 0, 0, 0, 1, 0, 0, 0, 0, 0, 0, 0, 0, 0, 0,\n",
              "        1, 0, 0, 0, 0, 0, 0, 0, 0, 0, 0, 0, 1, 0, 0, 0],\n",
              "       [0, 0, 0, 0, 0, 0, 0, 0, 0, 0, 0, 0, 0, 0, 0, 0, 1, 0, 0, 0, 0, 0,\n",
              "        0, 0, 0, 0, 0, 0, 0, 0, 0, 0, 0, 0, 0, 0, 0, 0],\n",
              "       [0, 1, 0, 0, 0, 0, 0, 0, 0, 0, 0, 0, 0, 0, 0, 0, 0, 0, 0, 0, 0, 0,\n",
              "        0, 1, 0, 0, 0, 0, 0, 0, 0, 0, 0, 0, 0, 0, 0, 0],\n",
              "       [0, 1, 1, 0, 0, 1, 0, 0, 0, 1, 0, 0, 0, 0, 0, 0, 0, 0, 0, 0, 0, 0,\n",
              "        0, 0, 0, 0, 1, 0, 0, 1, 0, 0, 0, 1, 1, 0, 0, 0],\n",
              "       [0, 1, 0, 0, 0, 0, 0, 1, 0, 0, 1, 0, 0, 0, 0, 0, 0, 0, 0, 0, 0, 1,\n",
              "        0, 0, 1, 0, 0, 0, 0, 0, 0, 0, 0, 0, 0, 0, 0, 0],\n",
              "       [0, 1, 0, 0, 1, 0, 0, 0, 0, 0, 1, 0, 0, 0, 0, 0, 0, 0, 1, 0, 0, 1,\n",
              "        0, 0, 0, 0, 0, 0, 0, 0, 0, 0, 0, 0, 0, 0, 0, 0],\n",
              "       [0, 1, 0, 0, 0, 0, 0, 0, 0, 1, 0, 0, 0, 0, 0, 1, 0, 0, 0, 0, 0, 0,\n",
              "        0, 0, 0, 0, 0, 0, 0, 0, 0, 0, 0, 1, 0, 1, 0, 0],\n",
              "       [0, 0, 0, 0, 0, 0, 0, 0, 0, 0, 0, 0, 0, 0, 0, 0, 0, 0, 1, 0, 0, 0,\n",
              "        0, 0, 0, 0, 0, 0, 0, 0, 0, 0, 0, 0, 0, 0, 0, 0],\n",
              "       [0, 1, 0, 0, 0, 0, 0, 0, 1, 0, 0, 0, 0, 0, 0, 0, 0, 0, 0, 0, 0, 1,\n",
              "        0, 0, 0, 0, 0, 0, 0, 0, 0, 0, 0, 1, 1, 0, 0, 0],\n",
              "       [0, 0, 0, 0, 0, 0, 0, 0, 0, 0, 0, 0, 0, 0, 0, 0, 0, 1, 0, 0, 0, 0,\n",
              "        0, 0, 0, 0, 0, 0, 0, 0, 0, 0, 0, 0, 0, 0, 0, 0],\n",
              "       [0, 1, 0, 0, 0, 0, 0, 0, 0, 0, 0, 0, 1, 0, 0, 0, 0, 0, 0, 0, 0, 1,\n",
              "        0, 0, 0, 0, 0, 0, 0, 0, 0, 1, 1, 0, 1, 0, 0, 0],\n",
              "       [0, 0, 0, 0, 0, 0, 0, 0, 0, 0, 0, 0, 0, 0, 0, 0, 0, 0, 0, 0, 0, 0,\n",
              "        1, 0, 0, 0, 0, 0, 0, 0, 0, 1, 0, 0, 0, 0, 1, 0],\n",
              "       [0, 1, 0, 0, 0, 0, 0, 0, 0, 0, 1, 0, 0, 0, 0, 0, 0, 0, 0, 0, 0, 1,\n",
              "        0, 0, 1, 0, 0, 0, 0, 0, 0, 0, 0, 0, 0, 0, 0, 0],\n",
              "       [0, 1, 0, 0, 0, 0, 0, 0, 0, 0, 1, 0, 0, 0, 0, 0, 0, 0, 0, 1, 0, 1,\n",
              "        0, 0, 0, 1, 0, 0, 0, 0, 0, 0, 0, 0, 0, 0, 0, 0],\n",
              "       [0, 1, 0, 0, 0, 0, 0, 0, 0, 0, 0, 0, 0, 0, 0, 0, 0, 0, 0, 0, 0, 0,\n",
              "        0, 0, 0, 0, 1, 1, 1, 0, 1, 0, 0, 0, 1, 0, 0, 0],\n",
              "       [0, 1, 0, 0, 0, 0, 0, 0, 0, 1, 0, 0, 0, 1, 1, 0, 0, 0, 0, 0, 0, 0,\n",
              "        0, 0, 0, 0, 0, 0, 0, 0, 0, 0, 0, 1, 1, 0, 0, 0],\n",
              "       [0, 1, 0, 0, 0, 1, 0, 0, 0, 1, 1, 0, 0, 0, 0, 0, 0, 0, 0, 0, 1, 1,\n",
              "        0, 0, 0, 0, 1, 0, 0, 1, 1, 0, 0, 1, 1, 0, 0, 0]])"
            ]
          },
          "metadata": {},
          "execution_count": 17
        }
      ]
    },
    {
      "cell_type": "code",
      "execution_count": null,
      "metadata": {
        "colab": {
          "base_uri": "https://localhost:8080/"
        },
        "id": "w07_i51kaHPg",
        "outputId": "8ff8151b-e02c-4980-b38e-9c20ab6c88b8"
      },
      "outputs": [
        {
          "output_type": "stream",
          "name": "stdout",
          "text": [
            "Model: \"sequential_3\"\n",
            "_________________________________________________________________\n",
            " Layer (type)                Output Shape              Param #   \n",
            "=================================================================\n",
            " dense_9 (Dense)             (None, 128)               4992      \n",
            "                                                                 \n",
            " dropout_6 (Dropout)         (None, 128)               0         \n",
            "                                                                 \n",
            " dense_10 (Dense)            (None, 64)                8256      \n",
            "                                                                 \n",
            " dropout_7 (Dropout)         (None, 64)                0         \n",
            "                                                                 \n",
            " dense_11 (Dense)            (None, 11)                715       \n",
            "                                                                 \n",
            "=================================================================\n",
            "Total params: 13,963\n",
            "Trainable params: 13,963\n",
            "Non-trainable params: 0\n",
            "_________________________________________________________________\n",
            "None\n",
            "Epoch 1/150\n",
            "1/1 [==============================] - 1s 565ms/step - loss: 2.4045 - accuracy: 0.0417\n",
            "Epoch 2/150\n",
            "1/1 [==============================] - 0s 9ms/step - loss: 2.2127 - accuracy: 0.2083\n",
            "Epoch 3/150\n",
            "1/1 [==============================] - 0s 10ms/step - loss: 2.0970 - accuracy: 0.3750\n",
            "Epoch 4/150\n",
            "1/1 [==============================] - 0s 12ms/step - loss: 1.9878 - accuracy: 0.2500\n",
            "Epoch 5/150\n",
            "1/1 [==============================] - 0s 8ms/step - loss: 1.9762 - accuracy: 0.3333\n",
            "Epoch 6/150\n",
            "1/1 [==============================] - 0s 7ms/step - loss: 1.7175 - accuracy: 0.5000\n",
            "Epoch 7/150\n",
            "1/1 [==============================] - 0s 7ms/step - loss: 1.6336 - accuracy: 0.4583\n",
            "Epoch 8/150\n",
            "1/1 [==============================] - 0s 7ms/step - loss: 1.6512 - accuracy: 0.5417\n",
            "Epoch 9/150\n",
            "1/1 [==============================] - 0s 7ms/step - loss: 1.2330 - accuracy: 0.7500\n",
            "Epoch 10/150\n",
            "1/1 [==============================] - 0s 7ms/step - loss: 1.2659 - accuracy: 0.7083\n",
            "Epoch 11/150\n",
            "1/1 [==============================] - 0s 7ms/step - loss: 1.0724 - accuracy: 0.7083\n",
            "Epoch 12/150\n",
            "1/1 [==============================] - 0s 7ms/step - loss: 1.0355 - accuracy: 0.7083\n",
            "Epoch 13/150\n",
            "1/1 [==============================] - 0s 7ms/step - loss: 1.0225 - accuracy: 0.7917\n",
            "Epoch 14/150\n",
            "1/1 [==============================] - 0s 7ms/step - loss: 0.9030 - accuracy: 0.8333\n",
            "Epoch 15/150\n",
            "1/1 [==============================] - 0s 8ms/step - loss: 0.6351 - accuracy: 0.8333\n",
            "Epoch 16/150\n",
            "1/1 [==============================] - 0s 7ms/step - loss: 0.6225 - accuracy: 0.8750\n",
            "Epoch 17/150\n",
            "1/1 [==============================] - 0s 9ms/step - loss: 0.4949 - accuracy: 0.8750\n",
            "Epoch 18/150\n",
            "1/1 [==============================] - 0s 10ms/step - loss: 0.4389 - accuracy: 0.8750\n",
            "Epoch 19/150\n",
            "1/1 [==============================] - 0s 9ms/step - loss: 0.2512 - accuracy: 0.9583\n",
            "Epoch 20/150\n",
            "1/1 [==============================] - 0s 14ms/step - loss: 0.3908 - accuracy: 0.9583\n",
            "Epoch 21/150\n",
            "1/1 [==============================] - 0s 10ms/step - loss: 0.2882 - accuracy: 1.0000\n",
            "Epoch 22/150\n",
            "1/1 [==============================] - 0s 7ms/step - loss: 0.3253 - accuracy: 0.8750\n",
            "Epoch 23/150\n",
            "1/1 [==============================] - 0s 7ms/step - loss: 0.2967 - accuracy: 0.9583\n",
            "Epoch 24/150\n",
            "1/1 [==============================] - 0s 7ms/step - loss: 0.1274 - accuracy: 1.0000\n",
            "Epoch 25/150\n",
            "1/1 [==============================] - 0s 12ms/step - loss: 0.2375 - accuracy: 0.9167\n",
            "Epoch 26/150\n",
            "1/1 [==============================] - 0s 9ms/step - loss: 0.2145 - accuracy: 0.9583\n",
            "Epoch 27/150\n",
            "1/1 [==============================] - 0s 7ms/step - loss: 0.0740 - accuracy: 1.0000\n",
            "Epoch 28/150\n",
            "1/1 [==============================] - 0s 12ms/step - loss: 0.2772 - accuracy: 0.9167\n",
            "Epoch 29/150\n",
            "1/1 [==============================] - 0s 7ms/step - loss: 0.1204 - accuracy: 1.0000\n",
            "Epoch 30/150\n",
            "1/1 [==============================] - 0s 7ms/step - loss: 0.0945 - accuracy: 0.9583\n",
            "Epoch 31/150\n",
            "1/1 [==============================] - 0s 7ms/step - loss: 0.1836 - accuracy: 0.8750\n",
            "Epoch 32/150\n",
            "1/1 [==============================] - 0s 7ms/step - loss: 0.0509 - accuracy: 1.0000\n",
            "Epoch 33/150\n",
            "1/1 [==============================] - 0s 7ms/step - loss: 0.1736 - accuracy: 0.9583\n",
            "Epoch 34/150\n",
            "1/1 [==============================] - 0s 9ms/step - loss: 0.0363 - accuracy: 1.0000\n",
            "Epoch 35/150\n",
            "1/1 [==============================] - 0s 11ms/step - loss: 0.0197 - accuracy: 1.0000\n",
            "Epoch 36/150\n",
            "1/1 [==============================] - 0s 8ms/step - loss: 0.0211 - accuracy: 1.0000\n",
            "Epoch 37/150\n",
            "1/1 [==============================] - 0s 7ms/step - loss: 0.0738 - accuracy: 1.0000\n",
            "Epoch 38/150\n",
            "1/1 [==============================] - 0s 7ms/step - loss: 0.0240 - accuracy: 1.0000\n",
            "Epoch 39/150\n",
            "1/1 [==============================] - 0s 7ms/step - loss: 0.0274 - accuracy: 1.0000\n",
            "Epoch 40/150\n",
            "1/1 [==============================] - 0s 7ms/step - loss: 0.0195 - accuracy: 1.0000\n",
            "Epoch 41/150\n",
            "1/1 [==============================] - 0s 7ms/step - loss: 0.0414 - accuracy: 1.0000\n",
            "Epoch 42/150\n",
            "1/1 [==============================] - 0s 9ms/step - loss: 0.0463 - accuracy: 0.9583\n",
            "Epoch 43/150\n",
            "1/1 [==============================] - 0s 7ms/step - loss: 0.0283 - accuracy: 1.0000\n",
            "Epoch 44/150\n",
            "1/1 [==============================] - 0s 8ms/step - loss: 0.0647 - accuracy: 0.9583\n",
            "Epoch 45/150\n",
            "1/1 [==============================] - 0s 7ms/step - loss: 0.0195 - accuracy: 1.0000\n",
            "Epoch 46/150\n",
            "1/1 [==============================] - 0s 9ms/step - loss: 0.0099 - accuracy: 1.0000\n",
            "Epoch 47/150\n",
            "1/1 [==============================] - 0s 7ms/step - loss: 0.1488 - accuracy: 0.9583\n",
            "Epoch 48/150\n",
            "1/1 [==============================] - 0s 7ms/step - loss: 0.0214 - accuracy: 1.0000\n",
            "Epoch 49/150\n",
            "1/1 [==============================] - 0s 7ms/step - loss: 0.0384 - accuracy: 1.0000\n",
            "Epoch 50/150\n",
            "1/1 [==============================] - 0s 8ms/step - loss: 0.0216 - accuracy: 1.0000\n",
            "Epoch 51/150\n",
            "1/1 [==============================] - 0s 9ms/step - loss: 0.0019 - accuracy: 1.0000\n",
            "Epoch 52/150\n",
            "1/1 [==============================] - 0s 7ms/step - loss: 0.0283 - accuracy: 1.0000\n",
            "Epoch 53/150\n",
            "1/1 [==============================] - 0s 7ms/step - loss: 0.0449 - accuracy: 0.9583\n",
            "Epoch 54/150\n",
            "1/1 [==============================] - 0s 8ms/step - loss: 0.0043 - accuracy: 1.0000\n",
            "Epoch 55/150\n",
            "1/1 [==============================] - 0s 6ms/step - loss: 0.0421 - accuracy: 1.0000\n",
            "Epoch 56/150\n",
            "1/1 [==============================] - 0s 7ms/step - loss: 0.1473 - accuracy: 0.9167\n",
            "Epoch 57/150\n",
            "1/1 [==============================] - 0s 7ms/step - loss: 0.0115 - accuracy: 1.0000\n",
            "Epoch 58/150\n",
            "1/1 [==============================] - 0s 7ms/step - loss: 0.0036 - accuracy: 1.0000\n",
            "Epoch 59/150\n",
            "1/1 [==============================] - 0s 7ms/step - loss: 0.0062 - accuracy: 1.0000\n",
            "Epoch 60/150\n",
            "1/1 [==============================] - 0s 8ms/step - loss: 0.0155 - accuracy: 1.0000\n",
            "Epoch 61/150\n",
            "1/1 [==============================] - 0s 7ms/step - loss: 0.0048 - accuracy: 1.0000\n",
            "Epoch 62/150\n",
            "1/1 [==============================] - 0s 7ms/step - loss: 0.0068 - accuracy: 1.0000\n",
            "Epoch 63/150\n",
            "1/1 [==============================] - 0s 8ms/step - loss: 0.0289 - accuracy: 1.0000\n",
            "Epoch 64/150\n",
            "1/1 [==============================] - 0s 7ms/step - loss: 0.0244 - accuracy: 1.0000\n",
            "Epoch 65/150\n",
            "1/1 [==============================] - 0s 7ms/step - loss: 0.0210 - accuracy: 1.0000\n",
            "Epoch 66/150\n",
            "1/1 [==============================] - 0s 7ms/step - loss: 0.0314 - accuracy: 1.0000\n",
            "Epoch 67/150\n",
            "1/1 [==============================] - 0s 10ms/step - loss: 0.0730 - accuracy: 0.9583\n",
            "Epoch 68/150\n",
            "1/1 [==============================] - 0s 8ms/step - loss: 0.0050 - accuracy: 1.0000\n",
            "Epoch 69/150\n",
            "1/1 [==============================] - 0s 8ms/step - loss: 0.0122 - accuracy: 1.0000\n",
            "Epoch 70/150\n",
            "1/1 [==============================] - 0s 8ms/step - loss: 0.0015 - accuracy: 1.0000\n",
            "Epoch 71/150\n",
            "1/1 [==============================] - 0s 8ms/step - loss: 0.0036 - accuracy: 1.0000\n",
            "Epoch 72/150\n",
            "1/1 [==============================] - 0s 6ms/step - loss: 0.0231 - accuracy: 1.0000\n",
            "Epoch 73/150\n",
            "1/1 [==============================] - 0s 7ms/step - loss: 0.0274 - accuracy: 1.0000\n",
            "Epoch 74/150\n",
            "1/1 [==============================] - 0s 8ms/step - loss: 0.0055 - accuracy: 1.0000\n",
            "Epoch 75/150\n",
            "1/1 [==============================] - 0s 9ms/step - loss: 0.0106 - accuracy: 1.0000\n",
            "Epoch 76/150\n",
            "1/1 [==============================] - 0s 7ms/step - loss: 0.0156 - accuracy: 1.0000\n",
            "Epoch 77/150\n",
            "1/1 [==============================] - 0s 8ms/step - loss: 0.0531 - accuracy: 0.9583\n",
            "Epoch 78/150\n",
            "1/1 [==============================] - 0s 7ms/step - loss: 0.0099 - accuracy: 1.0000\n",
            "Epoch 79/150\n",
            "1/1 [==============================] - 0s 7ms/step - loss: 0.0019 - accuracy: 1.0000\n",
            "Epoch 80/150\n",
            "1/1 [==============================] - 0s 7ms/step - loss: 0.0035 - accuracy: 1.0000\n",
            "Epoch 81/150\n",
            "1/1 [==============================] - 0s 7ms/step - loss: 0.0024 - accuracy: 1.0000\n",
            "Epoch 82/150\n",
            "1/1 [==============================] - 0s 7ms/step - loss: 0.0063 - accuracy: 1.0000\n",
            "Epoch 83/150\n",
            "1/1 [==============================] - 0s 7ms/step - loss: 0.0025 - accuracy: 1.0000\n",
            "Epoch 84/150\n",
            "1/1 [==============================] - 0s 7ms/step - loss: 0.0016 - accuracy: 1.0000\n",
            "Epoch 85/150\n",
            "1/1 [==============================] - 0s 7ms/step - loss: 0.1105 - accuracy: 0.9583\n",
            "Epoch 86/150\n",
            "1/1 [==============================] - 0s 7ms/step - loss: 0.0214 - accuracy: 1.0000\n",
            "Epoch 87/150\n",
            "1/1 [==============================] - 0s 7ms/step - loss: 0.0025 - accuracy: 1.0000\n",
            "Epoch 88/150\n",
            "1/1 [==============================] - 0s 7ms/step - loss: 0.0015 - accuracy: 1.0000\n",
            "Epoch 89/150\n",
            "1/1 [==============================] - 0s 7ms/step - loss: 0.0026 - accuracy: 1.0000\n",
            "Epoch 90/150\n",
            "1/1 [==============================] - 0s 7ms/step - loss: 0.0028 - accuracy: 1.0000\n",
            "Epoch 91/150\n",
            "1/1 [==============================] - 0s 7ms/step - loss: 8.6284e-04 - accuracy: 1.0000\n",
            "Epoch 92/150\n",
            "1/1 [==============================] - 0s 7ms/step - loss: 0.0105 - accuracy: 1.0000\n",
            "Epoch 93/150\n",
            "1/1 [==============================] - 0s 9ms/step - loss: 7.4629e-04 - accuracy: 1.0000\n",
            "Epoch 94/150\n",
            "1/1 [==============================] - 0s 8ms/step - loss: 0.0016 - accuracy: 1.0000\n",
            "Epoch 95/150\n",
            "1/1 [==============================] - 0s 8ms/step - loss: 0.0082 - accuracy: 1.0000\n",
            "Epoch 96/150\n",
            "1/1 [==============================] - 0s 7ms/step - loss: 0.0026 - accuracy: 1.0000\n",
            "Epoch 97/150\n",
            "1/1 [==============================] - 0s 8ms/step - loss: 0.0013 - accuracy: 1.0000\n",
            "Epoch 98/150\n",
            "1/1 [==============================] - 0s 7ms/step - loss: 0.0257 - accuracy: 1.0000\n",
            "Epoch 99/150\n",
            "1/1 [==============================] - 0s 8ms/step - loss: 0.0026 - accuracy: 1.0000\n",
            "Epoch 100/150\n",
            "1/1 [==============================] - 0s 7ms/step - loss: 0.0911 - accuracy: 0.9583\n",
            "Epoch 101/150\n",
            "1/1 [==============================] - 0s 6ms/step - loss: 0.0073 - accuracy: 1.0000\n",
            "Epoch 102/150\n",
            "1/1 [==============================] - 0s 7ms/step - loss: 0.0022 - accuracy: 1.0000\n",
            "Epoch 103/150\n",
            "1/1 [==============================] - 0s 7ms/step - loss: 0.0196 - accuracy: 1.0000\n",
            "Epoch 104/150\n",
            "1/1 [==============================] - 0s 7ms/step - loss: 0.0083 - accuracy: 1.0000\n",
            "Epoch 105/150\n",
            "1/1 [==============================] - 0s 7ms/step - loss: 0.0035 - accuracy: 1.0000\n",
            "Epoch 106/150\n",
            "1/1 [==============================] - 0s 7ms/step - loss: 1.2557e-04 - accuracy: 1.0000\n",
            "Epoch 107/150\n",
            "1/1 [==============================] - 0s 7ms/step - loss: 0.0097 - accuracy: 1.0000\n",
            "Epoch 108/150\n",
            "1/1 [==============================] - 0s 7ms/step - loss: 9.4378e-04 - accuracy: 1.0000\n",
            "Epoch 109/150\n",
            "1/1 [==============================] - 0s 8ms/step - loss: 0.0718 - accuracy: 0.9583\n",
            "Epoch 110/150\n",
            "1/1 [==============================] - 0s 7ms/step - loss: 0.0010 - accuracy: 1.0000\n",
            "Epoch 111/150\n",
            "1/1 [==============================] - 0s 7ms/step - loss: 2.2852e-04 - accuracy: 1.0000\n",
            "Epoch 112/150\n",
            "1/1 [==============================] - 0s 7ms/step - loss: 0.0070 - accuracy: 1.0000\n",
            "Epoch 113/150\n",
            "1/1 [==============================] - 0s 11ms/step - loss: 0.0031 - accuracy: 1.0000\n",
            "Epoch 114/150\n",
            "1/1 [==============================] - 0s 10ms/step - loss: 9.0873e-04 - accuracy: 1.0000\n",
            "Epoch 115/150\n",
            "1/1 [==============================] - 0s 8ms/step - loss: 0.0036 - accuracy: 1.0000\n",
            "Epoch 116/150\n",
            "1/1 [==============================] - 0s 9ms/step - loss: 0.0014 - accuracy: 1.0000\n",
            "Epoch 117/150\n",
            "1/1 [==============================] - 0s 9ms/step - loss: 0.0072 - accuracy: 1.0000\n",
            "Epoch 118/150\n",
            "1/1 [==============================] - 0s 12ms/step - loss: 0.0140 - accuracy: 1.0000\n",
            "Epoch 119/150\n",
            "1/1 [==============================] - 0s 8ms/step - loss: 0.0030 - accuracy: 1.0000\n",
            "Epoch 120/150\n",
            "1/1 [==============================] - 0s 7ms/step - loss: 0.0071 - accuracy: 1.0000\n",
            "Epoch 121/150\n",
            "1/1 [==============================] - 0s 8ms/step - loss: 0.0188 - accuracy: 1.0000\n",
            "Epoch 122/150\n",
            "1/1 [==============================] - 0s 8ms/step - loss: 0.0451 - accuracy: 0.9583\n",
            "Epoch 123/150\n",
            "1/1 [==============================] - 0s 7ms/step - loss: 0.0065 - accuracy: 1.0000\n",
            "Epoch 124/150\n",
            "1/1 [==============================] - 0s 7ms/step - loss: 8.6266e-04 - accuracy: 1.0000\n",
            "Epoch 125/150\n",
            "1/1 [==============================] - 0s 8ms/step - loss: 0.0705 - accuracy: 0.9583\n",
            "Epoch 126/150\n",
            "1/1 [==============================] - 0s 8ms/step - loss: 0.0064 - accuracy: 1.0000\n",
            "Epoch 127/150\n",
            "1/1 [==============================] - 0s 10ms/step - loss: 0.0022 - accuracy: 1.0000\n",
            "Epoch 128/150\n",
            "1/1 [==============================] - 0s 7ms/step - loss: 0.0042 - accuracy: 1.0000\n",
            "Epoch 129/150\n",
            "1/1 [==============================] - 0s 8ms/step - loss: 0.0187 - accuracy: 1.0000\n",
            "Epoch 130/150\n",
            "1/1 [==============================] - 0s 7ms/step - loss: 0.0019 - accuracy: 1.0000\n",
            "Epoch 131/150\n",
            "1/1 [==============================] - 0s 7ms/step - loss: 8.6563e-04 - accuracy: 1.0000\n",
            "Epoch 132/150\n",
            "1/1 [==============================] - 0s 7ms/step - loss: 0.0016 - accuracy: 1.0000\n",
            "Epoch 133/150\n",
            "1/1 [==============================] - 0s 8ms/step - loss: 0.0162 - accuracy: 1.0000\n",
            "Epoch 134/150\n",
            "1/1 [==============================] - 0s 9ms/step - loss: 7.3065e-04 - accuracy: 1.0000\n",
            "Epoch 135/150\n",
            "1/1 [==============================] - 0s 7ms/step - loss: 0.0176 - accuracy: 1.0000\n",
            "Epoch 136/150\n",
            "1/1 [==============================] - 0s 7ms/step - loss: 0.0013 - accuracy: 1.0000\n",
            "Epoch 137/150\n",
            "1/1 [==============================] - 0s 11ms/step - loss: 0.0028 - accuracy: 1.0000\n",
            "Epoch 138/150\n",
            "1/1 [==============================] - 0s 7ms/step - loss: 0.0442 - accuracy: 0.9583\n",
            "Epoch 139/150\n",
            "1/1 [==============================] - 0s 7ms/step - loss: 0.0019 - accuracy: 1.0000\n",
            "Epoch 140/150\n",
            "1/1 [==============================] - 0s 8ms/step - loss: 0.0208 - accuracy: 1.0000\n",
            "Epoch 141/150\n",
            "1/1 [==============================] - 0s 205ms/step - loss: 0.0013 - accuracy: 1.0000\n",
            "Epoch 142/150\n",
            "1/1 [==============================] - 0s 7ms/step - loss: 0.0020 - accuracy: 1.0000\n",
            "Epoch 143/150\n",
            "1/1 [==============================] - 0s 7ms/step - loss: 5.1775e-04 - accuracy: 1.0000\n",
            "Epoch 144/150\n",
            "1/1 [==============================] - 0s 7ms/step - loss: 0.0037 - accuracy: 1.0000\n",
            "Epoch 145/150\n",
            "1/1 [==============================] - 0s 7ms/step - loss: 0.0083 - accuracy: 1.0000\n",
            "Epoch 146/150\n",
            "1/1 [==============================] - 0s 7ms/step - loss: 9.7841e-04 - accuracy: 1.0000\n",
            "Epoch 147/150\n",
            "1/1 [==============================] - 0s 7ms/step - loss: 0.0042 - accuracy: 1.0000\n",
            "Epoch 148/150\n",
            "1/1 [==============================] - 0s 8ms/step - loss: 7.7973e-04 - accuracy: 1.0000\n",
            "Epoch 149/150\n",
            "1/1 [==============================] - 0s 7ms/step - loss: 0.0013 - accuracy: 1.0000\n",
            "Epoch 150/150\n",
            "1/1 [==============================] - 0s 8ms/step - loss: 0.0012 - accuracy: 1.0000\n"
          ]
        },
        {
          "output_type": "execute_result",
          "data": {
            "text/plain": [
              "<keras.callbacks.History at 0x7f026b73bc10>"
            ]
          },
          "metadata": {},
          "execution_count": 21
        }
      ],
      "source": [
        "# defining some parameters required to mentioned in the learning model\n",
        "iShape = (len(x[0]),)\n",
        "oShape = len(y[0])\n",
        "\n",
        "\n",
        "# generation of deep learning model\n",
        "ourNewModel = Sequential()\n",
        "ourNewModel.add(Dense(128, input_shape=iShape, activation=\"relu\"))\n",
        "ourNewModel.add(Dropout(0.5))\n",
        "ourNewModel.add(Dense(64, activation=\"relu\"))\n",
        "ourNewModel.add(Dropout(0.3))\n",
        "ourNewModel.add(Dense(oShape, activation = \"softmax\"))\n",
        "md = tensorF.keras.optimizers.Adam(learning_rate=0.01, decay=1e-6)\n",
        "ourNewModel.compile(loss='categorical_crossentropy',\n",
        "              optimizer=md,\n",
        "              metrics=[\"accuracy\"])\n",
        "print(ourNewModel.summary())\n",
        "ourNewModel.fit(x, y, epochs=150, verbose=1)"
      ]
    },
    {
      "cell_type": "code",
      "execution_count": null,
      "metadata": {
        "id": "SLfDyof6aR1U"
      },
      "outputs": [],
      "source": [
        "def ourText(text): \n",
        "  newtkns = nltk.word_tokenize(text)\n",
        "  newtkns = [lm.lemmatize(word) for word in newtkns]\n",
        "  return newtkns\n",
        "\n",
        "def wordBag(text, vocab): \n",
        "  newtkns = ourText(text)\n",
        "  bagOwords = [0] * len(vocab)\n",
        "  for w in newtkns: \n",
        "    for idx, word in enumerate(vocab):\n",
        "      if word == w: \n",
        "        bagOwords[idx] = 1\n",
        "  return num.array(bagOwords)\n",
        "\n",
        "def pred_class(text, vocab, labels): \n",
        "  bagOwords = wordBag(text, vocab)\n",
        "  ourResult = ourNewModel.predict(num.array([bagOwords]))[0]\n",
        "  newThresh = 0.2\n",
        "  yp = [[idx, res] for idx, res in enumerate(ourResult) if res > newThresh]\n",
        "\n",
        "  yp.sort(key=lambda x: x[1], reverse=True)\n",
        "  newList = []\n",
        "  for r in yp:\n",
        "    newList.append(labels[r[0]])\n",
        "  return newList\n",
        "\n",
        "def getRes(firstlist, fJson): \n",
        "  tag = firstlist[0]\n",
        "  listOfIntents = fJson[\"intents\"]\n",
        "  for i in listOfIntents: \n",
        "    if i[\"tag\"] == tag:\n",
        "      ourResult = random.choice(i[\"responses\"])\n",
        "      break\n",
        "  return ourResult"
      ]
    },
    {
      "cell_type": "code",
      "execution_count": null,
      "metadata": {
        "id": "MS1lJZjLa44e",
        "colab": {
          "base_uri": "https://localhost:8080/"
        },
        "outputId": "92dece0c-1f0f-44bd-bf5f-b21394c30704"
      },
      "outputs": [
        {
          "metadata": {
            "tags": null
          },
          "name": "stdout",
          "output_type": "stream",
          "text": [
            "Hello\n",
            "It is Cauliflower disease recognition system\n",
            "Farmer looses considerable fraction of their production due to not knowing the type of disease and their remedies. So this approach could be helpful\n",
            "It is most helpful for farmer\n",
            "It is Cauliflower disease recognition system\n",
            "It is Cauliflower disease recognition system\n",
            "Cauliflower is as good a source of fiber and vitamins.Its ingredients may help strengthen bones, boost the cardiovascular system, and prevent cancer.Cauliflower is high in fiber and water. Both are important for preventing constipation, maintaining a healthy digestive tract, and lowering the risk of colon cancer.\n",
            "There are many but the most common are : Bacterial soft rot, Black rot, Downy mildew, Powdery mildew, White rust, Cabbage looper, Cabbage Aphid\n",
            "Actully it is a pests but yeah can be considered as disease.\n",
            "Bye\n"
          ]
        }
      ],
      "source": [
        "# taking the input and giving the desirable output \n",
        "while True:\n",
        "    newMessage = input(\"\")\n",
        "    intents = pred_class(newMessage, newWords, ourClasses)\n",
        "    ourResult = getRes(intents, ourData)\n",
        "    print(ourResult)"
      ]
    },
    {
      "cell_type": "code",
      "execution_count": null,
      "metadata": {
        "id": "mubyXIWka9-H"
      },
      "outputs": [],
      "source": []
    }
  ],
  "metadata": {
    "colab": {
      "collapsed_sections": [],
      "provenance": []
    },
    "kernelspec": {
      "display_name": "Python 3",
      "name": "python3"
    },
    "language_info": {
      "name": "python"
    }
  },
  "nbformat": 4,
  "nbformat_minor": 0
}